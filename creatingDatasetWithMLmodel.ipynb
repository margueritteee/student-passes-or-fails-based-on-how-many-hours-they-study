{
  "nbformat": 4,
  "nbformat_minor": 0,
  "metadata": {
    "colab": {
      "provenance": [],
      "authorship_tag": "ABX9TyMZVbZKUpfAwxPjvGMuqBiK",
      "include_colab_link": true
    },
    "kernelspec": {
      "name": "python3",
      "display_name": "Python 3"
    },
    "language_info": {
      "name": "python"
    }
  },
  "cells": [
    {
      "cell_type": "markdown",
      "metadata": {
        "id": "view-in-github",
        "colab_type": "text"
      },
      "source": [
        "<a href=\"https://colab.research.google.com/github/margueritteee/student-passes-or-fails-based-on-how-many-hours-they-study/blob/main/creatingDatasetWithMLmodel.ipynb\" target=\"_parent\"><img src=\"https://colab.research.google.com/assets/colab-badge.svg\" alt=\"Open In Colab\"/></a>"
      ]
    },
    {
      "cell_type": "markdown",
      "source": [
        "# **Create dataset**"
      ],
      "metadata": {
        "id": "6JDBnKsl-5-m"
      }
    },
    {
      "cell_type": "code",
      "execution_count": null,
      "metadata": {
        "colab": {
          "base_uri": "https://localhost:8080/"
        },
        "id": "kHanpCoD-bxd",
        "outputId": "4494e8b4-0401-404e-a36b-921896f112ab"
      },
      "outputs": [
        {
          "output_type": "stream",
          "name": "stdout",
          "text": [
            "   Hours  Passed\n",
            "0      1       0\n",
            "1      2       0\n",
            "2      3       0\n",
            "3      4       1\n",
            "4      5       1\n",
            "5      6       1\n"
          ]
        }
      ],
      "source": [
        "import pandas as pd\n",
        "data = {\n",
        "    \"Hours\": [1, 2, 3, 4, 5, 6],\n",
        "    \"Passed\": [0, 0, 0, 1, 1, 1]\n",
        "}\n",
        "\n",
        "df = pd.DataFrame(data)\n",
        "print(df)"
      ]
    },
    {
      "cell_type": "markdown",
      "source": [
        "# **Train a simple model**"
      ],
      "metadata": {
        "id": "69kiD39U_BNZ"
      }
    },
    {
      "cell_type": "code",
      "source": [
        "from sklearn.linear_model import LogisticRegression\n",
        "\n",
        "# Features (X) and labels (y)\n",
        "X = df[[\"Hours\"]]   # input\n",
        "y = df[\"Passed\"]    # output\n",
        "\n",
        "# Create and train model using logistic regression (predict categories (yes/no, pass/fail, spam/not spam).)\n",
        "model = LogisticRegression()\n",
        "model.fit(X, y)\n",
        "\n",
        "# Test prediction\n",
        "print(model.predict(pd.DataFrame([[2]], columns=[\"Hours\"])))  # → [0]\n",
        "print(model.predict(pd.DataFrame([[5]], columns=[\"Hours\"])))  # → [1]"
      ],
      "metadata": {
        "colab": {
          "base_uri": "https://localhost:8080/"
        },
        "id": "yHWtZtpy-nfi",
        "outputId": "e44e4f68-3fe3-4672-d264-8b9363b12717"
      },
      "execution_count": null,
      "outputs": [
        {
          "output_type": "stream",
          "name": "stdout",
          "text": [
            "[0]\n",
            "[1]\n"
          ]
        }
      ]
    }
  ]
}